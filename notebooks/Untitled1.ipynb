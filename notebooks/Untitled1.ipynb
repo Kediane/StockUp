{
 "cells": [
  {
   "cell_type": "code",
   "execution_count": 2,
   "id": "8878f4ab-6eb5-41ec-9886-c8cf045c363d",
   "metadata": {},
   "outputs": [
    {
     "ename": "NameError",
     "evalue": "name 'income_df' is not defined",
     "output_type": "error",
     "traceback": [
      "\u001b[0;31m---------------------------------------------------------------------------\u001b[0m",
      "\u001b[0;31mNameError\u001b[0m                                 Traceback (most recent call last)",
      "Cell \u001b[0;32mIn[2], line 1\u001b[0m\n\u001b[0;32m----> 1\u001b[0m fundamentals \u001b[38;5;241m=\u001b[39m [\u001b[43mincome_df\u001b[49m, balance_sheet_df, cash_flow_df, earnings_df]\n\u001b[1;32m      2\u001b[0m fundamental_data \u001b[38;5;241m=\u001b[39m pd\u001b[38;5;241m.\u001b[39mconcat(fundamentals)\n",
      "\u001b[0;31mNameError\u001b[0m: name 'income_df' is not defined"
     ]
    }
   ],
   "source": [
    "fundamentals = [income_df, balance_sheet_df, cash_flow_df, earnings_df]\n",
    "fundamental_data = pd.concat(fundamentals)"
   ]
  },
  {
   "cell_type": "code",
   "execution_count": null,
   "id": "44fd06ab-d583-4111-b53c-7dabf1015e44",
   "metadata": {},
   "outputs": [],
   "source": []
  },
  {
   "cell_type": "code",
   "execution_count": null,
   "id": "82c3d4e8-a390-44ce-a512-3c6588823600",
   "metadata": {},
   "outputs": [],
   "source": []
  }
 ],
 "metadata": {
  "kernelspec": {
   "display_name": "Python 3 (ipykernel)",
   "language": "python",
   "name": "python3"
  },
  "language_info": {
   "codemirror_mode": {
    "name": "ipython",
    "version": 3
   },
   "file_extension": ".py",
   "mimetype": "text/x-python",
   "name": "python",
   "nbconvert_exporter": "python",
   "pygments_lexer": "ipython3",
   "version": "3.11.1"
  }
 },
 "nbformat": 4,
 "nbformat_minor": 5
}
